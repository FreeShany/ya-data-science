{
 "cells": [
  {
   "cell_type": "markdown",
   "metadata": {},
   "source": [
    "Assign an initial function in Python, prepare a matrix and a vector for a system of linear equations первой степени."
   ]
  },
  {
   "cell_type": "code",
   "execution_count": 98,
   "metadata": {
    "collapsed": false
   },
   "outputs": [
    {
     "name": "stdout",
     "output_type": "stream",
     "text": [
      "[[ 1  1]\n",
      " [15  1]]\n",
      "[[ 3.25221687]\n",
      " [ 0.63522142]]\n",
      "(2, 1)\n"
     ]
    }
   ],
   "source": [
    "import numpy as np\n",
    "\n",
    "f = lambda x: np.sin(x / 5) * np.exp(x / 10) + 5 * np.exp(-x / 2)\n",
    "A = np.array([[1, 1],[15, 1]])\n",
    "print A\n",
    "b = np.array([[f(1.)], [f(15.)]])\n",
    "print b\n",
    "print b.shape"
   ]
  },
  {
   "cell_type": "markdown",
   "metadata": {},
   "source": [
    "Solve a system of linear equations."
   ]
  },
  {
   "cell_type": "code",
   "execution_count": 99,
   "metadata": {
    "collapsed": false
   },
   "outputs": [
    {
     "name": "stdout",
     "output_type": "stream",
     "text": [
      "[[-0.18692825]\n",
      " [ 3.43914511]]\n"
     ]
    }
   ],
   "source": [
    "import scipy.linalg\n",
    "\n",
    "K = scipy.linalg.solve(A, b)\n",
    "print K\n",
    "f_new = lambda x: K[0]*x + K[1]"
   ]
  },
  {
   "cell_type": "markdown",
   "metadata": {},
   "source": [
    "Let's have fun! Ummm... Draw diagrams!"
   ]
  },
  {
   "cell_type": "code",
   "execution_count": 100,
   "metadata": {
    "collapsed": false
   },
   "outputs": [
    {
     "data": {
      "image/png": "[encoded data removed]",
      "text/plain": [
       "<matplotlib.figure.Figure at 0x113053f50>"
      ]
     },
     "metadata": {},
     "output_type": "display_data"
    }
   ],
   "source": [
    "import matplotlib.pyplot as plt\n",
    "\n",
    "x = np.linspace(1, 15, 100)\n",
    "y = map(f, x)\n",
    "y_new = map(f_new, x)\n",
    "plt.plot(x, y, 'r')\n",
    "plt.plot(x, y_new, 'b')\n",
    "plt.show()\n",
    "\n"
   ]
  },
  {
   "cell_type": "markdown",
   "metadata": {},
   "source": [
    "Let's do the same for a polynomial of degree 2 and x = 1, 8, 15."
   ]
  },
  {
   "cell_type": "code",
   "execution_count": 101,
   "metadata": {
    "collapsed": false
   },
   "outputs": [
    {
     "name": "stdout",
     "output_type": "stream",
     "text": [
      "[[   1.    1.    1.]\n",
      " [  64.    8.    1.]\n",
      " [ 225.   15.    1.]]\n",
      "[[ 3.25221687]\n",
      " [ 2.31617016]\n",
      " [ 0.63522142]]\n"
     ]
    }
   ],
   "source": [
    "dots = [1., 8., 15.]\n",
    "A = []\n",
    "b = []\n",
    "for dot in dots:\n",
    "    i = 2\n",
    "    rec = []\n",
    "    b.append(f(dot))\n",
    "    while i >= 0:\n",
    "        rec.append(dot ** i)\n",
    "        i -= 1\n",
    "    A.append(rec)\n",
    "A = np.array(A)\n",
    "print A\n",
    "b = np.array(b).reshape(-1,1)\n",
    "print b"
   ]
  },
  {
   "cell_type": "code",
   "execution_count": 102,
   "metadata": {
    "collapsed": false
   },
   "outputs": [
    {
     "name": "stdout",
     "output_type": "stream",
     "text": [
      "[[-0.00760104]\n",
      " [-0.06531159]\n",
      " [ 3.32512949]]\n"
     ]
    }
   ],
   "source": [
    "K = scipy.linalg.solve(A, b)\n",
    "print K\n",
    "f_new = lambda x: K[0] * x ** 2 + K[1] * x + K[2]"
   ]
  },
  {
   "cell_type": "code",
   "execution_count": 103,
   "metadata": {
    "collapsed": false
   },
   "outputs": [
    {
     "data": {
      "image/png": "[encoded data removed]",
      "text/plain": [
       "<matplotlib.figure.Figure at 0x11302dbd0>"
      ]
     },
     "metadata": {},
     "output_type": "display_data"
    }
   ],
   "source": [
    "x = np.linspace(1, 15, 100)\n",
    "y = map(f, x)\n",
    "y_new = map(f_new, x)\n",
    "plt.plot(x, y, 'r')\n",
    "plt.plot(x, y_new, 'b')\n",
    "plt.show()"
   ]
  },
  {
   "cell_type": "markdown",
   "metadata": {},
   "source": [
    "Let's do the same for a polynomial of degree 3 and x = 1, 4, 10, 15."
   ]
  },
  {
   "cell_type": "code",
   "execution_count": 104,
   "metadata": {
    "collapsed": false
   },
   "outputs": [
    {
     "name": "stdout",
     "output_type": "stream",
     "text": [
      "[[  1.00000000e+00   1.00000000e+00   1.00000000e+00   1.00000000e+00]\n",
      " [  6.40000000e+01   1.60000000e+01   4.00000000e+00   1.00000000e+00]\n",
      " [  1.00000000e+03   1.00000000e+02   1.00000000e+01   1.00000000e+00]\n",
      " [  3.37500000e+03   2.25000000e+02   1.50000000e+01   1.00000000e+00]]\n",
      "[[ 3.25221687]\n",
      " [ 1.74684595]\n",
      " [ 2.50541641]\n",
      " [ 0.63522142]]\n"
     ]
    }
   ],
   "source": [
    "dots = [1., 4., 10., 15.]\n",
    "A = []\n",
    "b = []\n",
    "for dot in dots:\n",
    "    i = 3\n",
    "    rec = []\n",
    "    b.append(f(dot))\n",
    "    while i >= 0:\n",
    "        rec.append(dot ** i)\n",
    "        i -= 1\n",
    "    A.append(rec)\n",
    "A = np.array(A)\n",
    "print A\n",
    "b = np.array(b).reshape(-1,1)\n",
    "print b"
   ]
  },
  {
   "cell_type": "code",
   "execution_count": 105,
   "metadata": {
    "collapsed": false
   },
   "outputs": [
    {
     "name": "stdout",
     "output_type": "stream",
     "text": [
      "[[-0.00823565]\n",
      " [ 0.19333685]\n",
      " [-1.29552587]\n",
      " [ 4.36264154]]\n"
     ]
    }
   ],
   "source": [
    "K = scipy.linalg.solve(A, b)\n",
    "print K\n",
    "f_new = lambda x: K[0] * x ** 3 + K[1] * x ** 2 + K[2] * x + K[3]"
   ]
  },
  {
   "cell_type": "code",
   "execution_count": 106,
   "metadata": {
    "collapsed": false
   },
   "outputs": [
    {
     "data": {
      "image/png": "[encoded data removed]",
      "text/plain": [
       "<matplotlib.figure.Figure at 0x112d89990>"
      ]
     },
     "metadata": {},
     "output_type": "display_data"
    }
   ],
   "source": [
    "x = np.linspace(1, 15, 100)\n",
    "y = map(f, x)\n",
    "y_new = map(f_new, x)\n",
    "plt.plot(x, y, 'r')\n",
    "plt.plot(x, y_new, 'b')\n",
    "plt.show()"
   ]
  },
  {
   "cell_type": "code",
   "execution_count": 107,
   "metadata": {
    "collapsed": false
   },
   "outputs": [
    {
     "name": "stdout",
     "output_type": "stream",
     "text": [
      "[-0.00823565  0.19333685 -1.29552587  4.36264154]\n",
      "4.36264153512 -1.29552586569 0.193336847022 -0.00823565117332 \n"
     ]
    }
   ],
   "source": [
    "K = np.array(K).reshape(-1)\n",
    "print K\n",
    "K = K[::-1]\n",
    "result = ''\n",
    "for koef in K:\n",
    "    result += str(koef) + ' '\n",
    "print result"
   ]
  },
  {
   "cell_type": "code",
   "execution_count": 108,
   "metadata": {
    "collapsed": true
   },
   "outputs": [],
   "source": [
    "f = open('submission-2.txt', 'w')\n",
    "f.write(result)\n",
    "f.close()"
   ]
  },
  {
   "cell_type": "code",
   "execution_count": null,
   "metadata": {
    "collapsed": true
   },
   "outputs": [],
   "source": []
  }
 ],
 "metadata": {
  "kernelspec": {
   "display_name": "Python 2",
   "language": "python",
   "name": "python2"
  },
  "language_info": {
   "codemirror_mode": {
    "name": "ipython",
    "version": 2
   },
   "file_extension": ".py",
   "mimetype": "text/x-python",
   "name": "python",
   "nbconvert_exporter": "python",
   "pygments_lexer": "ipython2",
   "version": "2.7.13"
  }
 },
 "nbformat": 4,
 "nbformat_minor": 2
}
